{
 "cells": [
  {
   "cell_type": "code",
   "execution_count": 3,
   "id": "7a611d56",
   "metadata": {},
   "outputs": [
    {
     "name": "stdout",
     "output_type": "stream",
     "text": [
      "– Study of the Battle of Jutland, 31 May 1916: HMS 'Lion' leading battlecruisers past the wreck of 'Invincible', about 18.40\n",
      "    …\n",
      "\n",
      "– 18th DLI, battalion route march\n",
      "    …\n",
      "\n",
      "– The Allied Flags / postcard\n",
      "    …\n",
      "\n",
      "– L'*Europa nel 1915\n",
      "    …\n",
      "\n",
      "– [Eerste Wereldoorlog = Première Guerre mondiale = World War I] / postcard\n",
      "    …\n",
      "\n"
     ]
    }
   ],
   "source": [
    "import requests\n",
    "\n",
    "API_KEY = \"clyfunecent\"\n",
    "def europeana_search_api(query: str, rows: int = 20) -> dict:\n",
    "    url = \"https://api.europeana.eu/record/v2/search.json\"\n",
    "    params = {\n",
    "        \"wskey\": API_KEY,\n",
    "        \"query\": query,\n",
    "        \"rows\": rows,\n",
    "        \"profile\": \"rich\"\n",
    "    }\n",
    "    resp = requests.get(url, params=params)\n",
    "    resp.raise_for_status()\n",
    "    return resp.json()\n",
    "\n",
    "# Uso\n",
    "data = europeana_search_api(\"World War I\", rows=5)\n",
    "for rec in data.get(\"items\", []):\n",
    "    title = rec.get(\"title\", [\"\"])[0]\n",
    "    descr = rec.get(\"descriptions\", [\"\"])[0]\n",
    "    print(\"–\", title)\n",
    "    print(\"  \", descr[:200], \"…\\n\")\n"
   ]
  },
  {
   "cell_type": "code",
   "execution_count": null,
   "id": "cbf71254",
   "metadata": {},
   "outputs": [],
   "source": []
  }
 ],
 "metadata": {
  "kernelspec": {
   "display_name": "Python 3",
   "language": "python",
   "name": "python3"
  },
  "language_info": {
   "codemirror_mode": {
    "name": "ipython",
    "version": 3
   },
   "file_extension": ".py",
   "mimetype": "text/x-python",
   "name": "python",
   "nbconvert_exporter": "python",
   "pygments_lexer": "ipython3",
   "version": "3.12.3"
  }
 },
 "nbformat": 4,
 "nbformat_minor": 5
}
